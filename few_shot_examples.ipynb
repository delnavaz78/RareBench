{
 "cells": [
  {
   "cell_type": "code",
   "execution_count": 1,
   "metadata": {},
   "outputs": [],
   "source": [
    "import numpy as np\n",
    "import json\n",
    "import pandas as pd"
   ]
  },
  {
   "cell_type": "code",
   "execution_count": 160,
   "metadata": {},
   "outputs": [],
   "source": [
    "\n",
    "def generate_dynamic_few_shot_id(exclude_id, k_shot=3):\n",
    "\n",
    "    # Load precomputed patient embeddings\n",
    "    patient = json.load(open(\"patients_embeddings.json\"))\n",
    "\n",
    "    # Retrieve precomputed embedding for the excluded patient\n",
    "    exclude_patient_embedding = np.array(patient[exclude_id])  \n",
    "\n",
    "    # Get patient IDs and their corresponding embeddings\n",
    "    patient_ids = list(patient.keys())  # List of patient IDs\n",
    "    patient_embeddings = np.array(list(patient.values()))  # Matrix of embeddings\n",
    "\n",
    "    # Compute cosine similarity\n",
    "    cosine_sim = np.dot(patient_embeddings, exclude_patient_embedding)\n",
    "\n",
    "    # Sort patient IDs based on similarity (descending order)\n",
    "    sorted_ids = [patient_ids[i] for i in np.argsort(cosine_sim)[::-1] if patient_ids[i] != exclude_id]\n",
    "\n",
    "    # Return the top k similar patients\n",
    "    return sorted_ids[:k_shot]\n"
   ]
  },
  {
   "cell_type": "code",
   "execution_count": 171,
   "metadata": {},
   "outputs": [
    {
     "data": {
      "text/plain": [
       "['<https://pubmed.ncbi.nlm.nih.gov/27939403?C_II_2>',\n",
       " '<https://pubmed.ncbi.nlm.nih.gov/27939403?C_II_1>',\n",
       " '<https://pubmed.ncbi.nlm.nih.gov/26981933?Family_F_individual_F10>']"
      ]
     },
     "execution_count": 171,
     "metadata": {},
     "output_type": "execute_result"
    }
   ],
   "source": [
    "generate_dynamic_few_shot_id(\"<https://pubmed.ncbi.nlm.nih.gov/31069201?Patient>\")"
   ]
  },
  {
   "cell_type": "code",
   "execution_count": 190,
   "metadata": {},
   "outputs": [],
   "source": [
    "def get_name(ids):\n",
    "    names = {'disease': None, 'phenotype': []}  # Start with an empty list for phenotypes\n",
    "    \n",
    "    with open(\"mapping/id2name_map(1).json\", \"r\", encoding=\"utf-8\") as file:\n",
    "        id2name_map = json.load(file)\n",
    "\n",
    "    # Flatten ids if they contain lists\n",
    "    flat_ids = [item for sublist in ids for item in (sublist if isinstance(sublist, list) else [sublist])]\n",
    "\n",
    "    for id in flat_ids:\n",
    "        if \"MONDO\" in id:\n",
    "            names['disease'] = id2name_map.get(id)  # For disease, just set the name\n",
    "\n",
    "        elif \"HP\" in id or \"PATO\" in id:\n",
    "            names['phenotype'].append(id2name_map.get(id))  # For phenotype, append to the list\n",
    "\n",
    "    return names\n"
   ]
  },
  {
   "cell_type": "code",
   "execution_count": 191,
   "metadata": {},
   "outputs": [],
   "source": [
    "def create_examples(exclude_id, k_shot=3):\n",
    "    example = generate_dynamic_few_shot_id(exclude_id, k_shot)\n",
    "    \n",
    "    few_shot_examples = {}\n",
    "    patient_info = {}\n",
    "\n",
    "    # Load patient data from file\n",
    "    with open(\"data/patients.json\", \"r\", encoding=\"utf-8\") as file:\n",
    "        patients = json.load(file)\n",
    "\n",
    "    # Select the examples based on exclude_id\n",
    "    patient_info = {id: patients[id] for id in example}\n",
    "\n",
    "    # Now pass individual patient IDs to get_name()\n",
    "    for id, patient_ids in patient_info.items():\n",
    "        few_shot_examples[id] = get_name(patient_ids)  # Pass the list of IDs (values) for each patient\n",
    "\n",
    "    return few_shot_examples\n"
   ]
  },
  {
   "cell_type": "code",
   "execution_count": 188,
   "metadata": {},
   "outputs": [
    {
     "data": {
      "text/plain": [
       "{'<https://pubmed.ncbi.nlm.nih.gov/27939403?C_II_2>': {'disease': 'pancytopenia due to IKZF1 mutations',\n",
       "  'phenotype': ['B lymphocytopenia',\n",
       "   'Decreased circulating IgG concentration']},\n",
       " '<https://pubmed.ncbi.nlm.nih.gov/27939403?C_II_1>': {'disease': 'pancytopenia due to IKZF1 mutations',\n",
       "  'phenotype': ['B lymphocytopenia',\n",
       "   'Decreased circulating IgG concentration']},\n",
       " '<https://pubmed.ncbi.nlm.nih.gov/26981933?Family_F_individual_F10>': {'disease': 'pancytopenia due to IKZF1 mutations',\n",
       "  'phenotype': ['Decreased circulating IgG concentration',\n",
       "   'Decreased circulating total IgM']}}"
      ]
     },
     "execution_count": 188,
     "metadata": {},
     "output_type": "execute_result"
    }
   ],
   "source": [
    "create_examples(\"<https://pubmed.ncbi.nlm.nih.gov/31069201?Patient>\")"
   ]
  },
  {
   "cell_type": "code",
   "execution_count": 192,
   "metadata": {},
   "outputs": [
    {
     "data": {
      "text/plain": [
       "{'<https://pubmed.ncbi.nlm.nih.gov/10077612?Family_B>': {'disease': 'Holt-Oram syndrome',\n",
       "  'phenotype': ['Abnormal carpal morphology']},\n",
       " '<https://pubmed.ncbi.nlm.nih.gov/10077612?Family_B_IV_10>': {'disease': 'Holt-Oram syndrome',\n",
       "  'phenotype': ['Abnormal carpal morphology']},\n",
       " '<https://pubmed.ncbi.nlm.nih.gov/32154675?Family_6_Patient_14>': {'disease': 'aneurysm-osteoarthritis syndrome',\n",
       "  'phenotype': ['Abnormal sternum morphology',\n",
       "   'Joint hypermobility',\n",
       "   'Aortic aneurysm',\n",
       "   'Soft skin']}}"
      ]
     },
     "execution_count": 192,
     "metadata": {},
     "output_type": "execute_result"
    }
   ],
   "source": [
    "create_examples(\"<https://pubmed.ncbi.nlm.nih.gov/38433265?index_case_patient_III_1>\")"
   ]
  },
  {
   "cell_type": "code",
   "execution_count": null,
   "metadata": {},
   "outputs": [],
   "source": []
  }
 ],
 "metadata": {
  "kernelspec": {
   "display_name": "Python 3",
   "language": "python",
   "name": "python3"
  },
  "language_info": {
   "codemirror_mode": {
    "name": "ipython",
    "version": 3
   },
   "file_extension": ".py",
   "mimetype": "text/x-python",
   "name": "python",
   "nbconvert_exporter": "python",
   "pygments_lexer": "ipython3",
   "version": "3.12.7"
  }
 },
 "nbformat": 4,
 "nbformat_minor": 2
}
